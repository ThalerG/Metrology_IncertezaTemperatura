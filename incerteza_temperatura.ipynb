{
 "cells": [
  {
   "cell_type": "code",
   "execution_count": 10,
   "metadata": {},
   "outputs": [
    {
     "data": {
      "image/png": "[encoded data removed]",
      "text/plain": [
       "<Figure size 640x480 with 1 Axes>"
      ]
     },
     "metadata": {},
     "output_type": "display_data"
    }
   ],
   "source": [
    "import pandas as pd\n",
    "import matplotlib.pyplot as plt\n",
    "\n",
    "file_path = \"Dados/data.csv\"\n",
    "df = pd.read_csv(file_path)\n",
    "\n",
    "plt.scatter(df['Time'], df['Resistance'])\n",
    "plt.xlabel('Time [s]')\n",
    "plt.ylabel('Resistance [Ω]')\n",
    "plt.show()"
   ]
  },
  {
   "cell_type": "markdown",
   "metadata": {},
   "source": [
    "## Estimação por ODR da resistência no instante 0"
   ]
  },
  {
   "cell_type": "code",
   "execution_count": 13,
   "metadata": {},
   "outputs": [
    {
     "name": "stdout",
     "output_type": "stream",
     "text": [
      "Uncertainty: [0.01530851 0.00062333]\n",
      "Slope: -0.026861854973040413\n",
      "Intercept: 19.430013622916988\n"
     ]
    }
   ],
   "source": [
    "import numpy as np\n",
    "from scipy import odr\n",
    "\n",
    "####### Replicando o artigo de referência #######\n",
    "\n",
    "# Incertezas de medição:\n",
    "\n",
    "s_t0 = 0.1 # Incerteza do tempo inicial\n",
    "\n",
    "s_dt = 0.001 # Incerteza do tempo de aquisição\n",
    "\n",
    "s_dR = 0.001 # Incerteza da medição de resistência\n",
    "\n",
    "# Modelo da função\n",
    "def estimation_model(params, x):\n",
    "    return params[1] * x + params[0]\n",
    "\n",
    "# Prepara dados\n",
    "x = df['Time'].values\n",
    "y = df['Resistance'].values\n",
    "\n",
    "# Passa incerteza para x e y\n",
    "s_x = np.sqrt(s_t0**2 + s_dt**2)\n",
    "s_y = s_dR\n",
    "\n",
    "# Define o modelo\n",
    "model = odr.Model(estimation_model)\n",
    "\n",
    "# Create objeto RealData\n",
    "data = odr.RealData(x, y, sx = s_x, sy = s_y)\n",
    "\n",
    "# Seta parâmetro iniciais\n",
    "initial_params = [1.0, 1.0]\n",
    "\n",
    "# ODR fit\n",
    "odr_fit = odr.ODR(data, model, beta0=initial_params)\n",
    "result = odr_fit.run()\n",
    "\n",
    "# Fitted parameters\n",
    "intercept, slope = result.beta\n",
    "\n",
    "# Desvio padrão dos parâmetros estimados\n",
    "uncertainty = result.sd_beta\n",
    "\n",
    "print(\"Uncertainty:\", uncertainty)\n",
    "print(\"Slope:\", slope)\n",
    "print(\"Intercept:\", intercept)\n",
    "\n",
    "R2 = intercept\n",
    "s_R2 = uncertainty[1]"
   ]
  },
  {
   "cell_type": "markdown",
   "metadata": {},
   "source": [
    "## Conversão da resistência para temperatura"
   ]
  },
  {
   "cell_type": "code",
   "execution_count": 12,
   "metadata": {},
   "outputs": [
    {
     "name": "stdout",
     "output_type": "stream",
     "text": [
      "IEEE LATAM\n",
      "Temperature rise [K]: 67.85857839662386\n",
      "Uncertainty [K]: 0.2346882517385413\n",
      "\n",
      "\n",
      "Int J Thermophys\n",
      "Temperature rise [K]: 67.85857839662386\n",
      "Uncertainty [K]: 0.26649177368197396\n"
     ]
    }
   ],
   "source": [
    "R1 = 15.39 # Resistência no início do teste\n",
    "Tamb_1 = 24 # Temperatura ambiente no início do teste\n",
    "Tamb_2 = 24 # Temperatura ambiente no início do teste\n",
    "\n",
    "k = 234.5 # Recíproco do coeficiente de temperatura do resistor\n",
    "alpha = 1/(k+Tamb_1) # Coeficiente de temperatura do resistor\n",
    "\n",
    "s_R1 = 0.01 # Incerteza da medição de resistência no início do teste\n",
    "s_Tamb1 = 0.1 # Incerteza da medição de temperatura no início do teste\n",
    "s_Tamb2 = 0.1 # Incerteza da medição de temperatura no final do teste\n",
    "\n",
    "\n",
    "# Usando equação do artigo IEEE LATAM\n",
    "\n",
    "# Cálculo da variação de temperatura \n",
    "dT1 = (R2-R1)/(R1*alpha)\n",
    "\n",
    "s_dT1 = [1*s_Tamb1, # Incerteza da temperatura ambiente\n",
    "         -R2/(alpha*(R1**2))*s_R1, # Incerteza da resistência inicial\n",
    "         1/(alpha*R1)*s_R2] # Incerteza da resistência final\n",
    "\n",
    "s_dT1 = np.linalg.norm(s_dT1) # Incerteza combinada é a raiz da soma dos quadrados\n",
    "\n",
    "print(\"IEEE LATAM\")\n",
    "print(\"Temperature rise [K]:\", dT1)\n",
    "print(\"Uncertainty [K]:\", s_dT1)\n",
    "print('\\n')\n",
    "\n",
    "# Usando equação do artigo do Int J Thermophys, com correção\n",
    "# na ordem de R1 e R2\n",
    "\n",
    "# Cálculo da variação de temperatura\n",
    "dT2 = (R2-R1)/R1*(k+Tamb_1)-(Tamb_2-Tamb_1)\n",
    "\n",
    "s_dT2 = [((R2-R1)/R1 + 1)*s_Tamb1, # Incerteza da temperatura ambiente inicial\n",
    "         -1*s_Tamb2, # Incerteza da temperatura ambiente final\n",
    "         -R2*(k+Tamb_1)/(R1**2)*s_R1, # Incerteza da resistência inicial\n",
    "         (k+Tamb_1)/R1*s_R2] # Incerteza da resistência final\n",
    "\n",
    "s_dT2 = np.linalg.norm(s_dT2) # Incerteza combinada é a raiz da soma dos quadrados\n",
    "\n",
    "print(\"Int J Thermophys\")\n",
    "print(\"Temperature rise [K]:\", dT2)\n",
    "print(\"Uncertainty [K]:\", s_dT2)"
   ]
  }
 ],
 "metadata": {
  "kernelspec": {
   "display_name": "base",
   "language": "python",
   "name": "python3"
  },
  "language_info": {
   "codemirror_mode": {
    "name": "ipython",
    "version": 3
   },
   "file_extension": ".py",
   "mimetype": "text/x-python",
   "name": "python",
   "nbconvert_exporter": "python",
   "pygments_lexer": "ipython3",
   "version": "3.11.7"
  }
 },
 "nbformat": 4,
 "nbformat_minor": 2
}
